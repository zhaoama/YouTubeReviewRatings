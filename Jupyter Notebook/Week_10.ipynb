{
 "cells": [
  {
   "cell_type": "markdown",
   "id": "5a723e3f",
   "metadata": {},
   "source": [
    "# Load the Data"
   ]
  },
  {
   "cell_type": "code",
   "execution_count": null,
   "id": "1eaca53d",
   "metadata": {
    "scrolled": true
   },
   "outputs": [],
   "source": [
    "import pandas as pd\n",
    "import zipfile\n",
    "import os\n",
    "\n",
    "# Function to load CSV from a ZIP file with multiple files\n",
    "def load_csv_from_zip(zip_path, csv_filename):\n",
    "    with zipfile.ZipFile(zip_path, 'r') as z:\n",
    "        # Extract and read the specific CSV file\n",
    "        with z.open(csv_filename) as f:\n",
    "            return pd.read_csv(f)\n",
    "\n",
    "# Define the relative path to the datasets folder\n",
    "datasets_path = os.path.join('..', 'Datasets')\n",
    "\n",
    "# Load datasets from zipped CSV files specifying the correct CSV filenames\n",
    "df_gb = load_csv_from_zip(os.path.join(datasets_path, 'GBvideos.csv.zip'), 'GBvideos.csv')\n",
    "df_us = load_csv_from_zip(os.path.join(datasets_path, 'USvideos.csv.zip'), 'USvideos.csv')\n",
    "\n",
    "# Add a new column 'location' in each data file\n",
    "df_gb['location'] = 'Great Britain'\n",
    "df_us['location'] = 'USA'\n",
    "\n",
    "# Merge 5 files into 1\n",
    "merged_df = pd.concat([df_gb, df_us], ignore_index=True)\n",
    "\n",
    "# Check the first few rows of the merged DataFrame\n",
    "print(merged_df.head())"
   ]
  },
  {
   "cell_type": "markdown",
   "id": "a6ff7d50",
   "metadata": {},
   "source": [
    "# Check Missing Values"
   ]
  },
  {
   "cell_type": "code",
   "execution_count": null,
   "id": "1ea0f618",
   "metadata": {
    "scrolled": true
   },
   "outputs": [],
   "source": [
    "# Check for missing values in the merged DataFrame\n",
    "print(\"Missing values\")\n",
    "print(merged_df.isnull().sum())"
   ]
  },
  {
   "cell_type": "code",
   "execution_count": null,
   "id": "18d1ae4e",
   "metadata": {
    "scrolled": true
   },
   "outputs": [],
   "source": [
    "df = merged_df.dropna()"
   ]
  },
  {
   "cell_type": "code",
   "execution_count": null,
   "id": "8838adb2",
   "metadata": {
    "scrolled": true
   },
   "outputs": [],
   "source": [
    "# Check for missing values in the merged DataFrame\n",
    "print(\"Missing values\")\n",
    "print(df.isnull().sum())"
   ]
  },
  {
   "cell_type": "markdown",
   "id": "59ba4af7",
   "metadata": {},
   "source": [
    "# Drop Unnecessary Columns"
   ]
  },
  {
   "cell_type": "code",
   "execution_count": null,
   "id": "724c9e9a",
   "metadata": {
    "scrolled": true
   },
   "outputs": [],
   "source": [
    "#drop columns needed\n",
    "merged_df.drop(columns=['thumbnail_link', 'video_id','comments_disabled','ratings_disabled','video_error_or_removed'], inplace=True)\n",
    "\n",
    "print(merged_df.head())"
   ]
  },
  {
   "cell_type": "markdown",
   "id": "1137123c",
   "metadata": {},
   "source": [
    "# Text Preprocessing "
   ]
  },
  {
   "cell_type": "code",
   "execution_count": null,
   "id": "3ee494c0",
   "metadata": {
    "scrolled": true
   },
   "outputs": [],
   "source": [
    "import nltk\n",
    "nltk.download('stopwords')\n",
    "from nltk.corpus import stopwords\n",
    "import re\n",
    "\n",
    "# Get the list of default English stopwords\n",
    "stop_words = set(stopwords.words('english'))\n",
    "\n",
    "# Function to remove stopwords and clean text\n",
    "def clean_text(text):\n",
    "    # Lowercase the text\n",
    "    text = text.lower()\n",
    "    \n",
    "    # Remove non-alphabetical characters (retain only letters and spaces)\n",
    "    text = re.sub(r'[^a-z\\s]', '', text)\n",
    "    \n",
    "    # Split text into words\n",
    "    words = text.split()\n",
    "    \n",
    "    # Remove stopwords\n",
    "    remove_stopwords = [word for word in words if word not in stop_words]\n",
    "    \n",
    "    # Join the cleaned words back into a string\n",
    "    new_text = ' '.join(remove_stopwords)\n",
    "    \n",
    "    return new_text\n",
    "    data = {'title','description','text'}\n",
    "    \n",
    "# Apply the clean_text function to the 'title' column in merged_df1\n",
    "merged_df['new_text'] = merged_df['title'].apply(clean_text)\n",
    "\n",
    "# Display the cleaned DataFrame\n",
    "print(merged_df)"
   ]
  },
  {
   "cell_type": "code",
   "execution_count": null,
   "id": "de1539e9",
   "metadata": {
    "scrolled": false
   },
   "outputs": [],
   "source": [
    "# Check the data types of each column\n",
    "print(merged_df.dtypes)"
   ]
  },
  {
   "cell_type": "markdown",
   "id": "d0305fa1",
   "metadata": {},
   "source": [
    "# Split the Dataset into Train and Test by 80/20"
   ]
  },
  {
   "cell_type": "code",
   "execution_count": null,
   "id": "433960e4",
   "metadata": {
    "scrolled": true
   },
   "outputs": [],
   "source": [
    "from sklearn.model_selection import train_test_split\n",
    "\n",
    "X = merged_df.drop(columns=['views'])  # Drop 'views' from features to get X\n",
    "y = merged_df['views']\n",
    "# Assuming you have a dataset with features X and target y\n",
    "X_train, X_test, y_train, y_test = train_test_split(X,y, test_size=0.2, random_state=42)\n",
    "\n",
    "train = pd.DataFrame(X_train)\n",
    "train['views'] = y_train.values\n",
    "\n",
    "test = pd.DataFrame(X_test)\n",
    "test['views'] = y_test.values"
   ]
  },
  {
   "cell_type": "markdown",
   "id": "371ad187",
   "metadata": {},
   "source": [
    "# (New) Feature Engineering"
   ]
  },
  {
   "cell_type": "markdown",
   "id": "b763226b",
   "metadata": {},
   "source": [
    "* Remove irrelavent features(Time-Based features, `Days Since Published`)\n",
    "* Create `Basic Engagement Ratio Analysis`\n",
    "* Create `Time Based Metrics Analysis`"
   ]
  },
  {
   "cell_type": "markdown",
   "id": "0f87b9d8",
   "metadata": {},
   "source": [
    "### Basic Engagement Ratio Analysis"
   ]
  },
  {
   "cell_type": "code",
   "execution_count": null,
   "id": "6c52fd1e",
   "metadata": {},
   "outputs": [],
   "source": [
    "import pandas as pd\n",
    "\n",
    "# Convert trending_date and publish_time to datetime\n",
    "# Convert trending_date and publish_time to timezone-naive datetime\n",
    "def prepare_datetime_columns(train):\n",
    "    train['trending_date'] = pd.to_datetime(train['trending_date'], format='%y.%d.%m', errors='coerce')\n",
    "    train['publish_time'] = pd.to_datetime(train['publish_time'], errors='coerce')\n",
    "    \n",
    "    # Remove timezone information to make them timezone-naive\n",
    "    train['trending_date'] = train['trending_date'].dt.tz_localize(None)\n",
    "    train['publish_time'] = train['publish_time'].dt.tz_localize(None)\n",
    "    \n",
    "    return train\n",
    "\n",
    "\n",
    "# Basic Engagement Ratios\n",
    "def create_engagement_ratios(train):\n",
    "    epsilon = 1e-10  # Prevents division by zero\n",
    "    \n",
    "    train['like_view_ratio'] = train['likes'] / (train['views'] + epsilon)\n",
    "    train['comment_like_ratio'] = train['comment_count'] / (train['likes'] + epsilon)\n",
    "    train['dislike_view_ratio'] = train['dislikes'] / (train['views'] + epsilon)\n",
    "    train['comment_view_ratio'] = train['comment_count'] / (train['views'] + epsilon)\n",
    "    train['total_engagement_ratio'] = (train['likes'] + train['dislikes'] + train['comment_count']) / (train['views'] + epsilon)\n",
    "    train['like_dislike_ratio'] = train['likes'] / (train['dislikes'] + epsilon)\n",
    "    \n",
    "    # Normalized Engagement Scores\n",
    "    train['normalized_likes'] = (train['likes'] - train['likes'].mean()) / train['likes'].std()\n",
    "    train['normalized_views'] = (train['views'] - train['views'].mean()) / train['views'].std()\n",
    "    \n",
    "    # Category-specific engagement ratios\n",
    "    train['category_like_view_ratio'] = train.groupby('category_id')['like_view_ratio'].transform('mean')\n",
    "    train['relative_category_engagement'] = train['like_view_ratio'] / (train['category_like_view_ratio'] + epsilon)\n",
    "    \n",
    "    # Engagement rate percentiles\n",
    "    train['like_view_percentile'] = train['like_view_ratio'].rank(pct=True)\n",
    "    train['comment_like_percentile'] = train['comment_like_ratio'].rank(pct=True)\n",
    "    \n",
    "    return train\n",
    "\n",
    "# Create engagement level categories\n",
    "def create_engagement_categories(train):\n",
    "    train['like_view_category'] = pd.qcut(train['like_view_ratio'], q=5, labels=['Very Low', 'Low', 'Medium', 'High', 'Very High'])\n",
    "    train['comment_like_category'] = pd.qcut(train['comment_like_ratio'], q=5, labels=['Very Low', 'Low', 'Medium', 'High', 'Very High'])\n",
    "    \n",
    "    # Combined Engagement Score\n",
    "    train['engagement_score'] = (train['like_view_percentile'] + train['comment_like_percentile']) / 2\n",
    "    train['engagement_category'] = pd.qcut(train['engagement_score'], q=5, labels=['Very Low', 'Low', 'Medium', 'High', 'Very High'])\n",
    "    \n",
    "    return train\n",
    "\n",
    "# Time-based engagement metrics\n",
    "def create_time_based_engagement(train):\n",
    "    epsilon = 1e-10\n",
    "    train['hours_to_trend'] = (train['trending_date'] - train['publish_time']).dt.total_seconds() / 3600\n",
    "    \n",
    "    return train\n",
    "\n",
    "\n",
    "# Putting it all together\n",
    "def create_all_engagement_features(train):\n",
    "    train = prepare_datetime_columns(train)\n",
    "    train = create_engagement_ratios(train)\n",
    "    train = create_engagement_categories(train)\n",
    "    train = create_time_based_engagement(train)\n",
    "    return train"
   ]
  },
  {
   "cell_type": "code",
   "execution_count": null,
   "id": "2e7d7bf3",
   "metadata": {},
   "outputs": [],
   "source": [
    "train = create_all_engagement_features(train)\n",
    "print(train)"
   ]
  },
  {
   "cell_type": "markdown",
   "id": "171a860a",
   "metadata": {},
   "source": [
    "### Time-Based Metrics Analysis"
   ]
  },
  {
   "cell_type": "code",
   "execution_count": null,
   "id": "4c46601f",
   "metadata": {},
   "outputs": [],
   "source": [
    "train['publish_weekday'] = train['publish_time'].dt.dayofweek\n",
    "train['is_weekend'] = train['publish_weekday'].isin([5,6]).astype(int)\n",
    "\n",
    "print(train)"
   ]
  },
  {
   "cell_type": "markdown",
   "id": "5da732a4",
   "metadata": {},
   "source": [
    "## TF-IDF Feature "
   ]
  },
  {
   "cell_type": "markdown",
   "id": "89f4c56c",
   "metadata": {},
   "source": [
    "#### `description` Column"
   ]
  },
  {
   "cell_type": "code",
   "execution_count": null,
   "id": "57326278",
   "metadata": {
    "scrolled": true
   },
   "outputs": [],
   "source": [
    "from sklearn.feature_extraction.text import TfidfVectorizer\n",
    "import numpy as np\n",
    " \n",
    "# Ensure the 'description' column exists in the DataFrame\n",
    "if 'description' in train.columns:\n",
    "    # Assuming 'description' column contains the text data\n",
    "    text_data = train['description'].fillna('')  # Handle missing values\n",
    "    \n",
    "    # Check if text_data is iterable, not a single string\n",
    "    if isinstance(text_data, pd.Series):\n",
    "        # Initialize the TF-IDF Vectorizer\n",
    "        tfidf_vectorizer = TfidfVectorizer(max_features=100, stop_words='english')\n",
    "        \n",
    "        # Fit and transform the text data to generate the TF-IDF matrix\n",
    "        tfidf_matrix = tfidf_vectorizer.fit_transform(text_data)\n",
    "        \n",
    "        # Convert the sparse matrix into a DataFrame for easier manipulation\n",
    "        tfidf_df = pd.DataFrame(tfidf_matrix.toarray(), columns=tfidf_vectorizer.get_feature_names_out())\n",
    "        \n",
    "        # Function to get top N features per row based on TF-IDF score\n",
    "        def get_top_tfidf_features(row, features, top_n=5):\n",
    "            top_indices = np.argsort(row)[::-1][:top_n]  # Get the indices of the top n features\n",
    "            top_features = [(features[i], row[i]) for i in top_indices]  # Get feature names and scores\n",
    "            return top_features\n",
    "\n",
    "        # Apply the function to each row in the TF-IDF matrix\n",
    "        top_tfidf_features = [get_top_tfidf_features(row, tfidf_vectorizer.get_feature_names_out(), top_n=5) \n",
    "                              for row in tfidf_matrix.toarray()]\n",
    "        \n",
    "        # Add the top TF-IDF features as a new column in the original DataFrame\n",
    "        train['top_tfidf_features'] = top_tfidf_features\n",
    "        \n",
    "        # Display the entire first 5 rows of the DataFrame including the top TF-IDF features\n",
    "        print(train.head(5))\n",
    "    else:\n",
    "        print(\"The 'description' column should be a pandas Series.\")\n",
    "else:\n",
    "    print(\"The DataFrame does not contain a 'description' column.\")"
   ]
  },
  {
   "cell_type": "markdown",
   "id": "cea33acd",
   "metadata": {},
   "source": [
    "#### `tags` Column"
   ]
  },
  {
   "cell_type": "code",
   "execution_count": null,
   "id": "9dce389a",
   "metadata": {
    "scrolled": true
   },
   "outputs": [],
   "source": [
    "from sklearn.feature_extraction.text import TfidfVectorizer\n",
    "import numpy as np\n",
    " \n",
    "# Ensure the 'description' column exists in the DataFrame\n",
    "if 'tags' in train.columns:\n",
    "    # Assuming 'description' column contains the text data\n",
    "    text_data = train['tags'].fillna('')  # Handle missing values\n",
    "    \n",
    "    # Check if text_data is iterable, not a single string\n",
    "    if isinstance(text_data, pd.Series):\n",
    "        # Initialize the TF-IDF Vectorizer\n",
    "        tfidf_vectorizer = TfidfVectorizer(max_features=100, stop_words='english')\n",
    "        \n",
    "        # Fit and transform the text data to generate the TF-IDF matrix\n",
    "        tfidf_matrix = tfidf_vectorizer.fit_transform(text_data)\n",
    "        \n",
    "        # Convert the sparse matrix into a DataFrame for easier manipulation\n",
    "        tfidf_df = pd.DataFrame(tfidf_matrix.toarray(), columns=tfidf_vectorizer.get_feature_names_out())\n",
    "        \n",
    "        # Function to get top N features per row based on TF-IDF score\n",
    "        def get_top_tfidf_features(row, features, top_n=5):\n",
    "            top_indices = np.argsort(row)[::-1][:top_n]  # Get the indices of the top n features\n",
    "            top_features = [(features[i], row[i]) for i in top_indices]  # Get feature names and scores\n",
    "            return top_features\n",
    "\n",
    "        # Apply the function to each row in the TF-IDF matrix\n",
    "        top_tfidf_features = [get_top_tfidf_features(row, tfidf_vectorizer.get_feature_names_out(), top_n=5) \n",
    "                              for row in tfidf_matrix.toarray()]\n",
    "        \n",
    "        # Add the top TF-IDF features as a new column in the original DataFrame\n",
    "        train['top_tfidf_features'] = top_tfidf_features\n",
    "        \n",
    "        # Display the entire first 5 rows of the DataFrame including the top TF-IDF features\n",
    "        print(train.head(5))\n",
    "    else:\n",
    "        print(\"The 'description' column should be a pandas Series.\")\n",
    "else:\n",
    "    print(\"The DataFrame does not contain a 'description' column.\")"
   ]
  },
  {
   "cell_type": "markdown",
   "id": "9615c016",
   "metadata": {},
   "source": [
    "# Dimension Reduction-PCA"
   ]
  },
  {
   "cell_type": "code",
   "execution_count": null,
   "id": "2f62c6ba",
   "metadata": {
    "scrolled": true
   },
   "outputs": [],
   "source": [
    "from sklearn.preprocessing import StandardScaler\n",
    "from sklearn.decomposition import PCA\n",
    "\n",
    "non_numeric_cols = ['publish_time', 'title', 'channel_title', 'tags', 'description', 'location', 'trending_date']\n",
    "X_train_model = train.drop(columns=non_numeric_cols + ['views']).select_dtypes(include=[float, int])\n",
    "X_test_model = test.drop(columns=non_numeric_cols + ['views']).select_dtypes(include=[float, int])\n",
    "\n",
    "X_test_model = X_test_model.reindex(columns=X_train_model.columns, fill_value=0)\n",
    "\n",
    "scaler = StandardScaler()\n",
    "X_train_scaled = scaler.fit_transform(X_train_model)\n",
    "X_test_scaled = scaler.transform(X_test_model)\n",
    "\n",
    "print(\"Missing values in X_train_model:\\n\", X_train_model.isna().sum())\n",
    "print(\"Missing values in X_test_model:\\n\", X_test_model.isna().sum())\n"
   ]
  },
  {
   "cell_type": "code",
   "execution_count": null,
   "id": "38fcffa7",
   "metadata": {
    "scrolled": true
   },
   "outputs": [],
   "source": [
    "import matplotlib.pyplot as plt\n",
    "# Apply PCA (Reduce to n components to capture 95% of variance)\n",
    "pca = PCA(n_components=0.95)\n",
    "X_train_pca = pca.fit_transform(X_train_scaled)\n",
    "X_test_pca = pca.transform(X_test_scaled)\n",
    "\n",
    "# Visualize the PCA results (Plot only the first two components)\n",
    "plt.figure(figsize=(10, 6))\n",
    "plt.scatter(X_train_pca[:, 0], X_train_pca[:, 1], c=y_train, cmap='viridis', edgecolor='k', s=50)\n",
    "plt.colorbar(label='Views')\n",
    "plt.title('PCA of YouTube Data (Train Set)', weight='bold')\n",
    "plt.xlabel('Principal Component 1')\n",
    "plt.ylabel('Principal Component 2')\n",
    "plt.grid(True)\n",
    "plt.show()\n",
    "\n",
    "# Explained variance for all components selected by PCA\n",
    "explained_variance = pca.explained_variance_ratio_\n",
    "print(\"Explained Variance per component:\")\n",
    "for i, variance in enumerate(explained_variance, start=1):\n",
    "     print(f\"PC{i}: {variance:.2%}\")\n"
   ]
  },
  {
   "cell_type": "markdown",
   "id": "3cd51593",
   "metadata": {},
   "source": [
    "# Model Refitting"
   ]
  },
  {
   "cell_type": "markdown",
   "id": "e74c4565",
   "metadata": {},
   "source": [
    "## Winning Model-XGBoost"
   ]
  },
  {
   "cell_type": "code",
   "execution_count": null,
   "id": "cf4fccbf",
   "metadata": {
    "scrolled": true
   },
   "outputs": [],
   "source": [
    "import xgboost as xgb\n",
    "from sklearn.metrics import mean_squared_error, r2_score\n",
    "import numpy as np\n",
    "import pandas as pd"
   ]
  },
  {
   "cell_type": "code",
   "execution_count": null,
   "id": "70a2e08a",
   "metadata": {
    "scrolled": true
   },
   "outputs": [],
   "source": [
    "# Define a function for calculating model metrics\n",
    "def calculate_metrics(model, X_train, y_train, X_test, y_test):\n",
    "    train_preds = model.predict(X_train)\n",
    "    test_preds = model.predict(X_test)\n",
    "\n",
    "    # Calculate RMSE and R^2 for training and test sets\n",
    "    train_rmse = np.sqrt(mean_squared_error(y_train, train_preds))\n",
    "    test_rmse = np.sqrt(mean_squared_error(y_test, test_preds))\n",
    "    train_r2 = r2_score(y_train, train_preds)\n",
    "    test_r2 = r2_score(y_test, test_preds)\n",
    "\n",
    "    return {\n",
    "        \"Train RMSE\": train_rmse, \"Test RMSE\": val_rmse,\n",
    "        \"Train R^2\": train_r2, \"Test R^2\": val_r2\n",
    "    }"
   ]
  },
  {
   "cell_type": "code",
   "execution_count": null,
   "id": "52e1b5a0",
   "metadata": {
    "scrolled": true
   },
   "outputs": [],
   "source": [
    "# Define a function to train the model with specific hyperparameters\n",
    "def train_xgboost(X_train, y_train, X_test, y_test, params):\n",
    "    model = xgb.XGBRegressor(**params, random_state=42)\n",
    "    model.fit(X_train, y_train)\n",
    "\n",
    "    # Calculate and return metrics\n",
    "    metrics = calculate_metrics(model, X_train, y_train, X_test, y_test)\n",
    "    return model, metrics\n"
   ]
  },
  {
   "cell_type": "code",
   "execution_count": null,
   "id": "efe6c2ad",
   "metadata": {
    "scrolled": true
   },
   "outputs": [],
   "source": [
    "# Define hyperparameter variations\n",
    "variations = [\n",
    "    {\"learning_rate\": 0.05, \"n_estimators\": 200, \"max_depth\": 6}# Winning variation\n",
    "]"
   ]
  },
  {
   "cell_type": "code",
   "execution_count": null,
   "id": "4e07cc49",
   "metadata": {
    "scrolled": true
   },
   "outputs": [],
   "source": [
    "# Initialize a DataFrame to store results for each variation\n",
    "results = pd.DataFrame(columns=[\"Variation\", \"Train RMSE\", \"Test RMSE\", \"Train R^2\", \"Test R^2\"])\n"
   ]
  },
  {
   "cell_type": "code",
   "execution_count": null,
   "id": "a40e6059",
   "metadata": {},
   "outputs": [],
   "source": [
    "# List of columns to drop if they exist\n",
    "text_columns = ['title', 'channel_title', 'tags', 'description', 'location', 'new_text']\n",
    "X_train.drop([col for col in text_columns if col in X_train.columns], axis=1, inplace=True)\n",
    "X_test.drop([col for col in text_columns if col in X_test.columns], axis=1, inplace=True)\n",
    "\n",
    "# Encode categorical features using one-hot encoding for consistency\n",
    "categorical_columns = ['engagement_category', 'comment_like_category', 'like-view-category']\n",
    "X_train = pd.get_dummies(X_train, columns=[col for col in categorical_columns if col in X_train.columns], drop_first=True)\n",
    "X_test = pd.get_dummies(X_test, columns=[col for col in categorical_columns if col in X_test.columns], drop_first=True)\n",
    "\n",
    "# Drop 'trending_date' and 'publish_time' if they exist\n",
    "for date_col in ['trending_date', 'publish_time']:\n",
    "    if date_col in X_train.columns:\n",
    "        X_train.drop([date_col], axis=1, inplace=True)\n",
    "    if date_col in X_test.columns:\n",
    "        X_test.drop([date_col], axis=1, inplace=True)\n",
    "\n",
    "# Add any missing features from the provided feature list, excluding already existing columns\n",
    "required_features = [\n",
    "    'category_id', 'likes', 'dislikes', 'comment_count', 'like_view_ratio', 'comment_like_ratio', \n",
    "    'dislike_view_ratio', 'comment_view_ratio', 'total_engagement_ratio', 'like_dislike_ratio', \n",
    "    'normalized_likes', 'normalized_views', 'category_like_view_ratio', 'relative_category_engagement', \n",
    "    'like_view_percentile', 'comment_like_percentile', 'engagement_score', 'hours_to_trend', \n",
    "    'publish_weekday', 'is_weekend'\n",
    "]\n",
    "# Add missing features with default values of 0\n",
    "for feature in required_features:\n",
    "    if feature not in X_train.columns:\n",
    "        X_train[feature] = 0\n",
    "    if feature not in X_test.columns:\n",
    "        X_test[feature] = 0\n",
    "\n",
    "# Ensure X_test has the same columns as X_train\n",
    "X_test = X_test.reindex(columns=X_train.columns, fill_value=0)\n",
    "\n",
    "# Verify that X_train and X_test now have the same columns\n",
    "print(\"X_train columns:\", X_train.columns)\n",
    "print(\"X_test columns:\", X_test.columns)"
   ]
  },
  {
   "cell_type": "code",
   "execution_count": null,
   "id": "99829b87",
   "metadata": {
    "scrolled": true
   },
   "outputs": [],
   "source": [
    "def calculate_metrics(model, X_train, y_train, X_test, y_test):\n",
    "    # Predictions\n",
    "    train_preds = model.predict(X_train)\n",
    "    test_preds = model.predict(X_test)\n",
    "    \n",
    "    # Calculate metrics\n",
    "    train_rmse = np.sqrt(mean_squared_error(y_train, train_preds))\n",
    "    test_rmse = np.sqrt(mean_squared_error(y_test, test_preds))\n",
    "    \n",
    "    train_r2 = r2_score(y_train, train_preds)\n",
    "    test_r2 = r2_score(y_test, test_preds)\n",
    "\n",
    "    return {\n",
    "        \"Train RMSE\": train_rmse,\n",
    "        \"Test RMSE\": test_rmse,  # Changed from val_rmse to test_rmse\n",
    "        \"Train R^2\": train_r2,\n",
    "        \"Test R^2\": test_r2\n",
    "    }"
   ]
  },
  {
   "cell_type": "code",
   "execution_count": null,
   "id": "174b49c7",
   "metadata": {
    "scrolled": true
   },
   "outputs": [],
   "source": [
    "# Create an empty DataFrame if it isn't already\n",
    "results = pd.DataFrame()\n",
    "\n",
    "# Train models for each variation and record results\n",
    "for i, params in enumerate(variations):\n",
    "    model, metrics = train_xgboost(X_train, y_train, X_test, y_test, params)\n",
    "    \n",
    "    # Create a DataFrame with the metrics for this variation\n",
    "    result_row = pd.DataFrame({\n",
    "        \"Variation\": [f\"Variation {i + 1}\"],\n",
    "        **metrics\n",
    "    })\n",
    "    \n",
    "    # Concatenate the new row to the results DataFrame\n",
    "    results = pd.concat([results, result_row], ignore_index=True)"
   ]
  },
  {
   "cell_type": "code",
   "execution_count": null,
   "id": "d62c29d9",
   "metadata": {
    "scrolled": true
   },
   "outputs": [],
   "source": [
    "# Display the comparison table\n",
    "print(\"XGBoost Model with Previous Winning Variation:\")\n",
    "print(results)"
   ]
  },
  {
   "cell_type": "code",
   "execution_count": null,
   "id": "317e33d8",
   "metadata": {},
   "outputs": [],
   "source": []
  },
  {
   "cell_type": "code",
   "execution_count": null,
   "id": "443d9748",
   "metadata": {},
   "outputs": [],
   "source": []
  },
  {
   "cell_type": "code",
   "execution_count": null,
   "id": "69bce989",
   "metadata": {},
   "outputs": [],
   "source": []
  },
  {
   "cell_type": "code",
   "execution_count": null,
   "id": "0641edd1",
   "metadata": {},
   "outputs": [],
   "source": []
  }
 ],
 "metadata": {
  "kernelspec": {
   "display_name": "Python 3 (ipykernel)",
   "language": "python",
   "name": "python3"
  },
  "language_info": {
   "codemirror_mode": {
    "name": "ipython",
    "version": 3
   },
   "file_extension": ".py",
   "mimetype": "text/x-python",
   "name": "python",
   "nbconvert_exporter": "python",
   "pygments_lexer": "ipython3",
   "version": "3.11.5"
  }
 },
 "nbformat": 4,
 "nbformat_minor": 5
}
