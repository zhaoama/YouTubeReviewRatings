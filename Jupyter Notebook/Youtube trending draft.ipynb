{
 "cells": [
  {
   "cell_type": "markdown",
   "id": "742a1b07",
   "metadata": {},
   "source": [
    "# Youtube Trending Analytics\n",
    "By recommending videos based on users' preferences, YouTube's recommendation algorithm aims to increase users' watch time on the platform. Instead of focusing on what is uploaded, YouTube focuses on what viewers are watching.View counts are the primary factor that determines YouTube's revenue. As part of this targeted livestream, I will analyze interactive data and content weight to understand how different types of data, including likes, follows, shares, comments, and watch time, affect view counts.\n",
    "This dataset includes several months (and counting) of daily trending YouTube videos. Data is provided for regions such as the US, GB, DE, CA, and FR (United States, Great Britain, Germany, Canada, and France, respectively), with up to 200 trending videos listed per day. It now also includes data from RU, MX, KR, JP, and IN (Russia, Mexico, South Korea, Japan, and India, respectively) over the same period.\n",
    "The dataset contains the video title, channel name, publication time, tags, views, likes, dislikes, description, and comment count.\n",
    "I will analyze the direction into the main two parts of the interactive data and work weight.\n",
    "Interactive data: the algorithm description inside the two directions of the factors mentioned, namely, positive and negative factors, if the positive factors are good, the work of the recommended traffic will be good the more, and vice versa will reduce the recommended.\n",
    "Work weight: the algorithm of de-emphasis and dispersion and other processing is actually in the shortlisted works for weighted sorting, it is through a variety of coefficients to calculate the results.\n"
   ]
  },
  {
   "cell_type": "code",
   "execution_count": null,
   "id": "d76cbf8d",
   "metadata": {},
   "outputs": [],
   "source": []
  }
 ],
 "metadata": {
  "kernelspec": {
   "display_name": "Python 3 (ipykernel)",
   "language": "python",
   "name": "python3"
  },
  "language_info": {
   "codemirror_mode": {
    "name": "ipython",
    "version": 3
   },
   "file_extension": ".py",
   "mimetype": "text/x-python",
   "name": "python",
   "nbconvert_exporter": "python",
   "pygments_lexer": "ipython3",
   "version": "3.11.5"
  }
 },
 "nbformat": 4,
 "nbformat_minor": 5
}
